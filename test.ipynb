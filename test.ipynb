{
 "cells": [
  {
   "cell_type": "code",
   "execution_count": null,
   "metadata": {},
   "outputs": [],
   "source": [
    "# %%bash\n",
    "# echo $JAVA_HOME\n",
    "# which java\n",
    "\n",
    "# # ##export JAVA_HOME=\"/usr/lib/jvm/java-11-openjdk-amd64/lib/server/libjvm.so\"\n",
    "# %%bash\n",
    "# export JAVA_HOME=\"/mnt/data2/lbalbi/DLMatcha/jdk-20.0.2/\"\n",
    "# export JVM_PATH=\"/mnt/data2/lbalbi/DLMatcha/jdk-20.0.2/lib/server/libjvm.so\"\n",
    "# export PATH=$JAVA_HOME/lib/server/:$PATH\n",
    "\n",
    "# export PATH=$JAVA_HOME$"
   ]
  },
  {
   "cell_type": "code",
   "execution_count": null,
   "metadata": {},
   "outputs": [],
   "source": []
  },
  {
   "cell_type": "code",
   "execution_count": null,
   "metadata": {},
   "outputs": [
    {
     "ename": "",
     "evalue": "",
     "output_type": "error",
     "traceback": [
      "\u001b[1;31mFailed to start the Kernel. \n",
      "\u001b[1;31mTraceback (most recent call last):\n",
      "\u001b[1;31m  File \"/home/lbalbi/miniconda3/envs/matcha_dl/lib/python3.10/runpy.py\", line 196, in _run_module_as_main\n",
      "\u001b[1;31m    return _run_code(code, main_globals, None,\n",
      "\u001b[1;31m  File \"/home/lbalbi/miniconda3/envs/matcha_dl/lib/python3.10/runpy.py\", line 86, in _run_code\n",
      "\u001b[1;31m    exec(code, run_globals)\n",
      "\u001b[1;31m  File \"/home/lbalbi/.local/lib/python3.10/site-packages/ipykernel_launcher.py\", line 18, in <module>\n",
      "\u001b[1;31m    app.launch_new_instance()\n",
      "\u001b[1;31m  File \"/home/lbalbi/.local/lib/python3.10/site-packages/traitlets/config/application.py\", line 1074, in launch_instance\n",
      "\u001b[1;31m    app.initialize(argv)\n",
      "\u001b[1;31m  File \"/home/lbalbi/.local/lib/python3.10/site-packages/traitlets/config/application.py\", line 118, in inner\n",
      "\u001b[1;31m    return method(app, *args, **kwargs)\n",
      "\u001b[1;31m  File \"/home/lbalbi/.local/lib/python3.10/site-packages/ipykernel/kernelapp.py\", line 707, in initialize\n",
      "\u001b[1;31m    self.init_kernel()\n",
      "\u001b[1;31m  File \"/home/lbalbi/.local/lib/python3.10/site-packages/ipykernel/kernelapp.py\", line 555, in init_kernel\n",
      "\u001b[1;31m    kernel = kernel_factory(\n",
      "\u001b[1;31m  File \"/home/lbalbi/.local/lib/python3.10/site-packages/traitlets/config/configurable.py\", line 583, in instance\n",
      "\u001b[1;31m    inst = cls(*args, **kwargs)\n",
      "\u001b[1;31m  File \"/home/lbalbi/.local/lib/python3.10/site-packages/ipykernel/ipkernel.py\", line 111, in __init__\n",
      "\u001b[1;31m    from .debugger import Debugger, _is_debugpy_available\n",
      "\u001b[1;31m  File \"/home/lbalbi/.local/lib/python3.10/site-packages/ipykernel/debugger.py\", line 41, in <module>\n",
      "\u001b[1;31m    raise e\n",
      "\u001b[1;31m  File \"/home/lbalbi/.local/lib/python3.10/site-packages/ipykernel/debugger.py\", line 24, in <module>\n",
      "\u001b[1;31m    from debugpy.server import api  # noqa: F401\n",
      "\u001b[1;31m  File \"/home/lbalbi/.local/lib/python3.10/site-packages/debugpy/server/__init__.py\", line 7, in <module>\n",
      "\u001b[1;31m    import debugpy._vendored.force_pydevd  # noqa\n",
      "\u001b[1;31m  File \"/home/lbalbi/.local/lib/python3.10/site-packages/debugpy/_vendored/force_pydevd.py\", line 44, in <module>\n",
      "\u001b[1;31m    preimport('pydevd', [\n",
      "\u001b[1;31m  File \"/home/lbalbi/.local/lib/python3.10/site-packages/debugpy/_vendored/__init__.py\", line 126, in preimport\n",
      "\u001b[1;31m    import_module(name)\n",
      "\u001b[1;31m  File \"/home/lbalbi/miniconda3/envs/matcha_dl/lib/python3.10/importlib/__init__.py\", line 126, in import_module\n",
      "\u001b[1;31m    return _bootstrap._gcd_import(name[level:], package, level)\n",
      "\u001b[1;31m  File \"/home/lbalbi/.local/lib/python3.10/site-packages/debugpy/_vendored/pydevd/pydevd.py\", line 65, in <module>\n",
      "\u001b[1;31m    from _pydevd_bundle.pydevd_net_command_factory_xml import NetCommandFactory\n",
      "\u001b[1;31m  File \"/home/lbalbi/.local/lib/python3.10/site-packages/debugpy/_vendored/pydevd/_pydevd_bundle/pydevd_net_command_factory_xml.py\", line 27, in <module>\n",
      "\u001b[1;31m    from _pydev_bundle._pydev_completer import completions_to_xml\n",
      "\u001b[1;31m  File \"/home/lbalbi/.local/lib/python3.10/site-packages/debugpy/_vendored/pydevd/_pydev_bundle/_pydev_completer.py\", line 10, in <module>\n",
      "\u001b[1;31m    import java.lang  # @UnusedImport\n",
      "\u001b[1;31m  File \"/home/lbalbi/miniconda3/envs/matcha_dl/lib/python3.10/site-packages/java.py\", line 53, in <module>\n",
      "\u001b[1;31m    from jnius import autoclass, JavaException\n",
      "\u001b[1;31m  File \"/home/lbalbi/miniconda3/envs/matcha_dl/lib/python3.10/site-packages/jnius/__init__.py\", line 45, in <module>\n",
      "\u001b[1;31m    from .reflect import *  # noqa\n",
      "\u001b[1;31m  File \"/home/lbalbi/miniconda3/envs/matcha_dl/lib/python3.10/site-packages/jnius/reflect.py\", line 19, in <module>\n",
      "\u001b[1;31m    class Class(JavaClass, metaclass=MetaJavaClass):\n",
      "\u001b[1;31m  File \"jnius/jnius_export_class.pxi\", line 117, in jnius.MetaJavaClass.__new__\n",
      "\u001b[1;31m  File \"jnius/jnius_export_class.pxi\", line 177, in jnius.MetaJavaClass.resolve_class\n",
      "\u001b[1;31m  File \"jnius/jnius_env.pxi\", line 11, in jnius.get_jnienv\n",
      "\u001b[1;31m  File \"jnius/jnius_jvm_dlopen.pxi\", line 95, in jnius.get_platform_jnienv\n",
      "\u001b[1;31m  File \"jnius/jnius_jvm_dlopen.pxi\", line 55, in jnius.create_jnienv\n",
      "\u001b[1;31m  File \"/home/lbalbi/miniconda3/envs/matcha_dl/lib/python3.10/site-packages/jnius/env.py\", line 173, in get_jnius_lib_location\n",
      "\u001b[1;31m    raise RuntimeError(\n",
      "\u001b[1;31mRuntimeError: \n",
      "\u001b[1;31m        Unable to find libjvm.so, (tried ['JAVA_HOME=\"/usr/lib/jvm/java-11-openjdk-amd64/bin/java/lib/server/libjvm.so', 'JAVA_HOME=\"/usr/lib/jvm/java-11-openjdk-amd64/bin/java/jre/lib/amd64/default/libjvm.so', 'JAVA_HOME=\"/usr/lib/jvm/java-11-openjdk-amd64/bin/java/jre/lib/amd64/server/libjvm.so'])\n",
      "\u001b[1;31m        you can use the JVM_PATH env variable with the absolute path\n",
      "\u001b[1;31m        to libjvm.so to override this lookup, if you know\n",
      "\u001b[1;31m        where pyjnius should look for it.\n",
      "\u001b[1;31m\n",
      "\u001b[1;31m        e.g:\n",
      "\u001b[1;31m            export JAVA_HOME=/usr/lib/jvm/java-8-oracle/\n",
      "\u001b[1;31m            export JVM_PATH=/usr/lib/jvm/java-8-oracle/jre/lib/amd64/server/libjvm.so\n",
      "\u001b[1;31m            # run your program. \n",
      "\u001b[1;31mView Jupyter <a href='command:jupyter.viewOutput'>log</a> for further details."
     ]
    }
   ],
   "source": [
    "#!pip install datasets\n",
    "import matcha_dl"
   ]
  },
  {
   "cell_type": "code",
   "execution_count": null,
   "metadata": {},
   "outputs": [],
   "source": [
    "from datasets import load_dataset\n",
    "\n",
    "dataset = load_dataset(\"krr-oxford/OntoLAMA\", \"doid-atomic-SI\")"
   ]
  },
  {
   "cell_type": "code",
   "execution_count": null,
   "metadata": {},
   "outputs": [],
   "source": [
    "for partition in dataset:\n",
    "    print(partition, dataset[partition])"
   ]
  },
  {
   "cell_type": "code",
   "execution_count": null,
   "metadata": {},
   "outputs": [],
   "source": [
    "from matcha_gnn import datasets\n",
    "\n",
    "g = datasets.DGLDataset(\n",
    "    source_ontology=\"ontologies/doid.owl\" ,\n",
    "    target_ontology=\"ontologies/go.owl\",\n",
    "    heterogeneous=True)\n",
    "\n",
    "g.graph\n"
   ]
  },
  {
   "cell_type": "code",
   "execution_count": null,
   "metadata": {},
   "outputs": [],
   "source": []
  },
  {
   "cell_type": "code",
   "execution_count": null,
   "metadata": {},
   "outputs": [],
   "source": [
    "## \n",
    "import torch\n",
    "from matcha_gnn import gnns, Trainer\n",
    "from torch.optim.lr_scheduler import ReduceLROnPlateau\n",
    "\n",
    "\n",
    "model = gnns.GCN\n",
    "optimizer = torch.optim.Adam(model.parameters(), lr = 0.01)\n",
    "scheduler = ReduceLROnPlateau(optimizer, factor=0.1, patience=1)\n",
    "CrossEntropy = torch.nn.CrossEntropyLoss()\n",
    "Trainer(model, optimizer, scheduler, CrossEntropy, g).train(epochs=100)"
   ]
  }
 ],
 "metadata": {
  "kernelspec": {
   "display_name": "Python 3",
   "language": "python",
   "name": "python3"
  },
  "language_info": {
   "codemirror_mode": {
    "name": "ipython",
    "version": 3
   },
   "file_extension": ".py",
   "mimetype": "text/x-python",
   "name": "python",
   "nbconvert_exporter": "python",
   "pygments_lexer": "ipython3",
   "version": "3.10.14"
  }
 },
 "nbformat": 4,
 "nbformat_minor": 2
}
